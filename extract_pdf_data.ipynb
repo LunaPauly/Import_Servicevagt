# Import necessary libraries
import fitz  # PyMuPDF
import pandas as pd

# Load the PDF file
pdf_file_path = 'your_pdf_file.pdf'  # Replace with your PDF file name
document = fitz.open(pdf_file_path)

# Extract text from each page
pdf_text = []
for page in document:
    pdf_text.append(page.get_text())

# Combine the extracted text into a single string
combined_text = "\n".join(pdf_text)

# Print the first 500 characters of the extracted text
print(combined_text[:500])  # Adjust this number as needed

# Split the combined text into lines (modify this based on your PDF structure)
lines = combined_text.split('\n')

# Create a DataFrame (this is a simple example; adjust according to your data)
data = {'Extracted Text': lines}
df = pd.DataFrame(data)

# Display the DataFrame
print(df.head())
